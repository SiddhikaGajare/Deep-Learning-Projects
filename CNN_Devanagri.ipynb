{
 "cells": [
  {
   "cell_type": "markdown",
   "id": "af83c33f",
   "metadata": {},
   "source": [
    "# Devanagari Character Classification using CNN \n",
    "\n",
    "<h3>Context</h3>\n",
    "This dataset is created for the deep learning based Devanagari character recognition research evaluation, 2015.\n",
    "\n",
    "<h3>Content</h3>\n",
    "The dataset contains mixed categories for Devanagari numerals (10 classes) and consonants (36 classes). Dataset is explicitly separated into train and test set. Train set contains total 78,200 samples with 1700 samples per class for total 46 classes and test set contains total 13,800 samples with 300 samples per class for total 46 classes.\n",
    "Dataset is collected from the school level students.\n",
    "\n",
    "This dataset is collected and maintained by the following research members,\n",
    "\n",
    "Shailesh Acharya\n",
    "Ashok Kumar Pant\n",
    "Prashnna Kumar Gyawali"
   ]
  },
  {
   "cell_type": "code",
   "execution_count": 1,
   "id": "fa4650af",
   "metadata": {},
   "outputs": [],
   "source": [
    "from sklearn.model_selection import train_test_split\n",
    "\n",
    "from keras.models import Sequential\n",
    "from keras.layers import Conv2D, MaxPool2D, Flatten, Dense, Dropout\n",
    "from tensorflow.keras.utils import to_categorical\n",
    "import pandas as pd\n",
    "import numpy as np\n",
    "import matplotlib.pyplot as plt\n",
    "import tensorflow as tf\n",
    "import keras # keras is a wrapper on tensorflow\n",
    "\n",
    "import os\n",
    "import cv2\n",
    "import matplotlib.pyplot as plt\n"
   ]
  },
  {
   "cell_type": "code",
   "execution_count": 2,
   "id": "111eaa05",
   "metadata": {},
   "outputs": [],
   "source": [
    "path1 = r'E:\\Data Science\\DataSets and EDA\\CNN\\Devnagri\\dhcd\\train'\n",
    "cate = ['0','1','2','3','4','5','6','7','8','9','10','11','12','13','14','15','16','17',\n",
    "        '18','19','20','21','22','23','24','25','26','27','28','29',\n",
    "        '30','31','32','33','34','35','36','37','38','39','40','41','42','43','44','45'\n",
    "]"
   ]
  },
  {
   "cell_type": "code",
   "execution_count": 3,
   "id": "4c474473",
   "metadata": {},
   "outputs": [
    {
     "name": "stdout",
     "output_type": "stream",
     "text": [
      "E:\\Data Science\\DataSets and EDA\\CNN\\Devnagri\\dhcd\\train\\0\n",
      "(32, 32, 3)\n",
      "E:\\Data Science\\DataSets and EDA\\CNN\\Devnagri\\dhcd\\train\\1\n",
      "(32, 32, 3)\n",
      "E:\\Data Science\\DataSets and EDA\\CNN\\Devnagri\\dhcd\\train\\2\n",
      "(32, 32, 3)\n",
      "E:\\Data Science\\DataSets and EDA\\CNN\\Devnagri\\dhcd\\train\\3\n",
      "(32, 32, 3)\n",
      "E:\\Data Science\\DataSets and EDA\\CNN\\Devnagri\\dhcd\\train\\4\n",
      "(32, 32, 3)\n",
      "E:\\Data Science\\DataSets and EDA\\CNN\\Devnagri\\dhcd\\train\\5\n",
      "(32, 32, 3)\n",
      "E:\\Data Science\\DataSets and EDA\\CNN\\Devnagri\\dhcd\\train\\6\n",
      "(32, 32, 3)\n",
      "E:\\Data Science\\DataSets and EDA\\CNN\\Devnagri\\dhcd\\train\\7\n",
      "(32, 32, 3)\n",
      "E:\\Data Science\\DataSets and EDA\\CNN\\Devnagri\\dhcd\\train\\8\n",
      "(32, 32, 3)\n",
      "E:\\Data Science\\DataSets and EDA\\CNN\\Devnagri\\dhcd\\train\\9\n",
      "(32, 32, 3)\n",
      "E:\\Data Science\\DataSets and EDA\\CNN\\Devnagri\\dhcd\\train\\10\n",
      "(32, 32, 3)\n",
      "E:\\Data Science\\DataSets and EDA\\CNN\\Devnagri\\dhcd\\train\\11\n",
      "(32, 32, 3)\n",
      "E:\\Data Science\\DataSets and EDA\\CNN\\Devnagri\\dhcd\\train\\12\n",
      "(32, 32, 3)\n",
      "E:\\Data Science\\DataSets and EDA\\CNN\\Devnagri\\dhcd\\train\\13\n",
      "(32, 32, 3)\n",
      "E:\\Data Science\\DataSets and EDA\\CNN\\Devnagri\\dhcd\\train\\14\n",
      "(32, 32, 3)\n",
      "E:\\Data Science\\DataSets and EDA\\CNN\\Devnagri\\dhcd\\train\\15\n",
      "(32, 32, 3)\n",
      "E:\\Data Science\\DataSets and EDA\\CNN\\Devnagri\\dhcd\\train\\16\n",
      "(32, 32, 3)\n",
      "E:\\Data Science\\DataSets and EDA\\CNN\\Devnagri\\dhcd\\train\\17\n",
      "(32, 32, 3)\n",
      "E:\\Data Science\\DataSets and EDA\\CNN\\Devnagri\\dhcd\\train\\18\n",
      "(32, 32, 3)\n",
      "E:\\Data Science\\DataSets and EDA\\CNN\\Devnagri\\dhcd\\train\\19\n",
      "(32, 32, 3)\n",
      "E:\\Data Science\\DataSets and EDA\\CNN\\Devnagri\\dhcd\\train\\20\n",
      "(32, 32, 3)\n",
      "E:\\Data Science\\DataSets and EDA\\CNN\\Devnagri\\dhcd\\train\\21\n",
      "(32, 32, 3)\n",
      "E:\\Data Science\\DataSets and EDA\\CNN\\Devnagri\\dhcd\\train\\22\n",
      "(32, 32, 3)\n",
      "E:\\Data Science\\DataSets and EDA\\CNN\\Devnagri\\dhcd\\train\\23\n",
      "(32, 32, 3)\n",
      "E:\\Data Science\\DataSets and EDA\\CNN\\Devnagri\\dhcd\\train\\24\n",
      "(32, 32, 3)\n",
      "E:\\Data Science\\DataSets and EDA\\CNN\\Devnagri\\dhcd\\train\\25\n",
      "(32, 32, 3)\n",
      "E:\\Data Science\\DataSets and EDA\\CNN\\Devnagri\\dhcd\\train\\26\n",
      "(32, 32, 3)\n",
      "E:\\Data Science\\DataSets and EDA\\CNN\\Devnagri\\dhcd\\train\\27\n",
      "(32, 32, 3)\n",
      "E:\\Data Science\\DataSets and EDA\\CNN\\Devnagri\\dhcd\\train\\28\n",
      "(32, 32, 3)\n",
      "E:\\Data Science\\DataSets and EDA\\CNN\\Devnagri\\dhcd\\train\\29\n",
      "(32, 32, 3)\n",
      "E:\\Data Science\\DataSets and EDA\\CNN\\Devnagri\\dhcd\\train\\30\n",
      "(32, 32, 3)\n",
      "E:\\Data Science\\DataSets and EDA\\CNN\\Devnagri\\dhcd\\train\\31\n",
      "(32, 32, 3)\n",
      "E:\\Data Science\\DataSets and EDA\\CNN\\Devnagri\\dhcd\\train\\32\n",
      "(32, 32, 3)\n",
      "E:\\Data Science\\DataSets and EDA\\CNN\\Devnagri\\dhcd\\train\\33\n",
      "(32, 32, 3)\n",
      "E:\\Data Science\\DataSets and EDA\\CNN\\Devnagri\\dhcd\\train\\34\n",
      "(32, 32, 3)\n",
      "E:\\Data Science\\DataSets and EDA\\CNN\\Devnagri\\dhcd\\train\\35\n",
      "(32, 32, 3)\n",
      "E:\\Data Science\\DataSets and EDA\\CNN\\Devnagri\\dhcd\\train\\36\n",
      "(32, 32, 3)\n",
      "E:\\Data Science\\DataSets and EDA\\CNN\\Devnagri\\dhcd\\train\\37\n",
      "(32, 32, 3)\n",
      "E:\\Data Science\\DataSets and EDA\\CNN\\Devnagri\\dhcd\\train\\38\n",
      "(32, 32, 3)\n",
      "E:\\Data Science\\DataSets and EDA\\CNN\\Devnagri\\dhcd\\train\\39\n",
      "(32, 32, 3)\n",
      "E:\\Data Science\\DataSets and EDA\\CNN\\Devnagri\\dhcd\\train\\40\n",
      "(32, 32, 3)\n",
      "E:\\Data Science\\DataSets and EDA\\CNN\\Devnagri\\dhcd\\train\\41\n",
      "(32, 32, 3)\n",
      "E:\\Data Science\\DataSets and EDA\\CNN\\Devnagri\\dhcd\\train\\42\n",
      "(32, 32, 3)\n",
      "E:\\Data Science\\DataSets and EDA\\CNN\\Devnagri\\dhcd\\train\\43\n",
      "(32, 32, 3)\n",
      "E:\\Data Science\\DataSets and EDA\\CNN\\Devnagri\\dhcd\\train\\44\n",
      "(32, 32, 3)\n",
      "E:\\Data Science\\DataSets and EDA\\CNN\\Devnagri\\dhcd\\train\\45\n",
      "(32, 32, 3)\n"
     ]
    },
    {
     "data": {
      "image/png": "[encoded data removed]",
      "text/plain": [
       "<Figure size 432x288 with 1 Axes>"
      ]
     },
     "metadata": {
      "needs_background": "light"
     },
     "output_type": "display_data"
    }
   ],
   "source": [
    "for i in cate:\n",
    "    folders = os.path.join(path1,i)\n",
    "    print(folders)\n",
    "    for image in os.listdir(folders):\n",
    "        image_path = os.path.join(folders, image)\n",
    "        image_array = cv2.imread(image_path) # using the cv2 i m read and storing in variable image_array\n",
    "        plt.imshow(image_array)\n",
    "        print(image_array.shape)\n",
    "        break\n",
    "        "
   ]
  },
  {
   "cell_type": "code",
   "execution_count": 4,
   "id": "d1e111c9",
   "metadata": {},
   "outputs": [],
   "source": [
    "image_size = 100  \n",
    "                 \n",
    "path1 = r'E:\\Data Science\\DataSets and EDA\\CNN\\Devnagri\\dhcd\\train'\n",
    "cate = ['0','1','2','3','4','5','6','7','8','9','10','11','12','13','14','15','16','17',\n",
    "        '18','19','20','21','22','23','24','25','26','27','28','29',\n",
    "        '30','31','32','33','34','35','36','37','38','39','40','41','42','43','44','45']\n",
    "    \n",
    "input_image = []    \n",
    "for i in cate:\n",
    "    folders = os.path.join(path1 ,i)\n",
    "    label   = cate.index(i)   # we need to tell software which image is belongs to which category\n",
    "    for image in os.listdir(folders):\n",
    "        image_path  = os.path.join(folders , image)\n",
    "        image_array =  cv2.imread(image_path) #  using the cv2 i am reading the image and storing in variable image_array\n",
    "        image_array =cv2.resize(image_array , (image_size  , image_size) ) # resizing each image to 50 * 50\n",
    "        input_image.append([image_array , label])\n"
   ]
  },
  {
   "cell_type": "code",
   "execution_count": 11,
   "id": "e5389cb9",
   "metadata": {},
   "outputs": [
    {
     "data": {
      "text/plain": [
       "78200"
      ]
     },
     "execution_count": 11,
     "metadata": {},
     "output_type": "execute_result"
    },
    {
     "data": {
      "image/png": "[encoded data removed]",
      "text/plain": [
       "<Figure size 432x288 with 1 Axes>"
      ]
     },
     "metadata": {
      "needs_background": "light"
     },
     "output_type": "display_data"
    }
   ],
   "source": [
    "# Since our Dataset is a bit huge and my machine wouldn't  \n",
    "\n",
    "np.random.shuffle(input_image)\n",
    "\n",
    "X = []\n",
    "Y = []\n",
    "\n",
    "for x_val, labels in input_image[0:3000]:\n",
    "    X.append(x_val)\n",
    "    Y.append(labels)\n",
    "    \n",
    "X = np.array(X)\n",
    "Y = np.array(Y)\n",
    "\n",
    "X = X/255\n",
    "\n",
    "plt.imshow(X[0])\n",
    "len(input_image)"
   ]
  },
  {
   "cell_type": "code",
   "execution_count": 12,
   "id": "630c3591",
   "metadata": {},
   "outputs": [],
   "source": [
    "X_train, X_test, Y_train, Y_test = train_test_split(X, Y, test_size=.2)"
   ]
  },
  {
   "cell_type": "code",
   "execution_count": 13,
   "id": "2758b136",
   "metadata": {},
   "outputs": [],
   "source": [
    "model = Sequential() # modelis initialized\n",
    "model.add(Conv2D(filters = 30, kernel_size = (5, 5), activation= 'relu',)) # Input/convolution layer Info, filters(sliders/kernels)\n",
    "model.add(MaxPool2D(pool_size=(2,2))) \n",
    "model.add(Flatten())\n",
    "\n",
    "model.add(Dense(128, activation= 'relu', input_shape = X.shape[1:])) # Hidden Layer\n",
    "# model.add(Dropout(0.2))\n",
    "model.add(Dense(46, activation='softmax'))\n",
    "\n",
    "# adam = tf.keras.optimizers.Adam(lr = 0.01) # its not mandatory default is 0.001\n",
    "\n",
    "model.compile(optimizer='adam', loss= 'sparse_categorical_crossentropy', metrics = ['accuracy'])\n",
    " # 10 is not a hyper parameter\n",
    "# number of layers in target variable"
   ]
  },
  {
   "cell_type": "code",
   "execution_count": 14,
   "id": "ff269cd2",
   "metadata": {
    "scrolled": true
   },
   "outputs": [
    {
     "name": "stdout",
     "output_type": "stream",
     "text": [
      "Epoch 1/10\n",
      "75/75 [==============================] - 22s 275ms/step - loss: 3.0292 - accuracy: 0.2617 - val_loss: 2.1150 - val_accuracy: 0.4417\n",
      "Epoch 2/10\n",
      "75/75 [==============================] - 13s 174ms/step - loss: 1.3212 - accuracy: 0.6404 - val_loss: 1.7000 - val_accuracy: 0.5600\n",
      "Epoch 3/10\n",
      "75/75 [==============================] - 14s 184ms/step - loss: 0.5190 - accuracy: 0.8508 - val_loss: 1.5935 - val_accuracy: 0.6067\n",
      "Epoch 4/10\n",
      "75/75 [==============================] - 14s 193ms/step - loss: 0.1727 - accuracy: 0.9546 - val_loss: 1.5352 - val_accuracy: 0.6017\n",
      "Epoch 5/10\n",
      "75/75 [==============================] - 15s 195ms/step - loss: 0.0524 - accuracy: 0.9904 - val_loss: 1.7066 - val_accuracy: 0.6367\n",
      "Epoch 6/10\n",
      "75/75 [==============================] - 14s 192ms/step - loss: 0.0202 - accuracy: 0.9975 - val_loss: 1.7692 - val_accuracy: 0.6350\n",
      "Epoch 7/10\n",
      "75/75 [==============================] - 15s 194ms/step - loss: 0.0056 - accuracy: 1.0000 - val_loss: 1.7539 - val_accuracy: 0.6717\n",
      "Epoch 8/10\n",
      "75/75 [==============================] - 15s 196ms/step - loss: 0.0023 - accuracy: 1.0000 - val_loss: 1.8282 - val_accuracy: 0.6600\n",
      "Epoch 9/10\n",
      "75/75 [==============================] - 17s 234ms/step - loss: 0.0014 - accuracy: 1.0000 - val_loss: 1.8678 - val_accuracy: 0.6617\n",
      "Epoch 10/10\n",
      "75/75 [==============================] - 16s 211ms/step - loss: 9.7483e-04 - accuracy: 1.0000 - val_loss: 1.9097 - val_accuracy: 0.6667\n"
     ]
    },
    {
     "data": {
      "text/plain": [
       "<keras.callbacks.History at 0x18f213e0e80>"
      ]
     },
     "execution_count": 14,
     "metadata": {},
     "output_type": "execute_result"
    }
   ],
   "source": [
    "model.fit(X, Y, epochs=10, validation_split=.2)"
   ]
  },
  {
   "cell_type": "code",
   "execution_count": 17,
   "id": "585e5875",
   "metadata": {},
   "outputs": [
    {
     "name": "stdout",
     "output_type": "stream",
     "text": [
      "0.9333333333333333\n",
      "              precision    recall  f1-score   support\n",
      "\n",
      "           0       0.94      0.98      0.96        46\n",
      "           1       1.00      0.94      0.97        62\n",
      "           2       0.95      0.97      0.96        75\n",
      "           3       0.98      0.90      0.94        61\n",
      "           4       0.96      0.97      0.96        69\n",
      "           5       0.98      1.00      0.99        49\n",
      "           6       0.94      0.94      0.94        67\n",
      "           7       0.97      0.97      0.97        78\n",
      "           8       0.96      1.00      0.98        75\n",
      "           9       0.97      1.00      0.99        70\n",
      "          10       0.98      0.97      0.97        58\n",
      "          11       0.90      0.89      0.90        63\n",
      "          12       0.90      0.89      0.90        74\n",
      "          13       0.89      0.96      0.93        79\n",
      "          14       0.94      0.85      0.90        55\n",
      "          15       0.92      0.96      0.94        57\n",
      "          16       0.99      0.95      0.97        74\n",
      "          17       0.98      0.91      0.94        55\n",
      "          18       0.94      0.97      0.96        66\n",
      "          19       0.94      0.96      0.95        53\n",
      "          20       0.95      0.95      0.95        80\n",
      "          21       0.91      0.92      0.91        64\n",
      "          22       0.92      0.92      0.92        66\n",
      "          23       0.92      0.94      0.93        71\n",
      "          24       0.96      0.93      0.94        72\n",
      "          25       0.94      0.91      0.93        68\n",
      "          26       0.87      0.85      0.86        61\n",
      "          27       0.92      0.97      0.95        63\n",
      "          28       0.92      0.86      0.89        64\n",
      "          29       0.88      0.91      0.89        64\n",
      "          30       0.83      0.92      0.87        64\n",
      "          31       0.97      0.97      0.97        67\n",
      "          32       0.93      0.96      0.95        57\n",
      "          33       0.94      0.96      0.95        67\n",
      "          34       0.88      0.89      0.88        72\n",
      "          35       0.87      0.84      0.85        56\n",
      "          36       0.97      0.95      0.96        76\n",
      "          37       0.93      0.95      0.94        66\n",
      "          38       0.92      0.86      0.89        66\n",
      "          39       0.87      0.89      0.88        54\n",
      "          40       0.95      0.93      0.94        56\n",
      "          41       0.89      0.87      0.88        55\n",
      "          42       0.92      0.91      0.92        78\n",
      "          43       0.97      0.94      0.95        62\n",
      "          44       0.89      0.90      0.90        71\n",
      "          45       0.99      0.99      0.99        74\n",
      "\n",
      "    accuracy                           0.93      3000\n",
      "   macro avg       0.93      0.93      0.93      3000\n",
      "weighted avg       0.93      0.93      0.93      3000\n",
      "\n"
     ]
    }
   ],
   "source": [
    "pred = model.predict(X)\n",
    "\n",
    "pred = np.argmax(pred, axis=1)\n",
    "\n",
    "from sklearn.metrics import confusion_matrix, accuracy_score, precision_score, classification_report\n",
    "\n",
    "tab = confusion_matrix(Y, pred)\n",
    "print(accuracy_score(Y, pred))\n",
    "print(classification_report(Y, pred))"
   ]
  },
  {
   "cell_type": "markdown",
   "id": "dbe4b762",
   "metadata": {},
   "source": [
    "<h3>Conclusion : </h3>We have managed to achieve a <b>Precision : 93% and Accuracy : 93%</b>"
   ]
  },
  {
   "cell_type": "code",
   "execution_count": null,
   "id": "e6a11bec",
   "metadata": {},
   "outputs": [],
   "source": []
  }
 ],
 "metadata": {
  "kernelspec": {
   "display_name": "Python 3 (ipykernel)",
   "language": "python",
   "name": "python3"
  },
  "language_info": {
   "codemirror_mode": {
    "name": "ipython",
    "version": 3
   },
   "file_extension": ".py",
   "mimetype": "text/x-python",
   "name": "python",
   "nbconvert_exporter": "python",
   "pygments_lexer": "ipython3",
   "version": "3.9.7"
  }
 },
 "nbformat": 4,
 "nbformat_minor": 5
}
