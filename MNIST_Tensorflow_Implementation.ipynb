{
 "cells": [
  {
   "cell_type": "markdown",
   "id": "576bfac5",
   "metadata": {},
   "source": [
    "# MNIST - Digit Classification\n",
    "\n",
    "The data files train.csv and test.csv contain gray-scale images of hand-drawn digits, from zero through nine.\n",
    "\n",
    "Each image is 28 pixels in height and 28 pixels in width, for a total of 784 pixels in total. Each pixel has a single pixel-value associated with it, indicating the lightness or darkness of that pixel, with higher numbers meaning darker. This pixel-value is an integer between 0 and 255, inclusive.\n",
    "\n",
    "The training data set, (train.csv), has 785 columns. The first column, called \"label\", is the digit that was drawn by the user. The rest of the columns contain the pixel-values of the associated image.\n",
    "\n",
    "Each pixel column in the training set has a name like pixelx, where x is an integer between 0 and 783, inclusive. To locate this pixel on the image, suppose that we have decomposed x as x = i * 28 + j, where i and j are integers between 0 and 27, inclusive. Then pixelx is located on row i and column j of a 28 x 28 matrix, (indexing by zero)."
   ]
  },
  {
   "cell_type": "code",
   "execution_count": 1,
   "id": "3925dc15",
   "metadata": {},
   "outputs": [
    {
     "data": {
      "text/plain": [
       "(42000, 785)"
      ]
     },
     "execution_count": 1,
     "metadata": {},
     "output_type": "execute_result"
    }
   ],
   "source": [
    "import pandas as pd\n",
    "import numpy as np\n",
    "import matplotlib.pyplot as plt\n",
    "import tensorflow as tf\n",
    "import keras # keras is a wrapper on tensorflow\n",
    "\n",
    "from sklearn.metrics import confusion_matrix, classification_report\n",
    "\n",
    "mnist = pd.read_csv('MNIST_Train.csv')\n",
    "\n",
    "mnist.shape"
   ]
  },
  {
   "cell_type": "code",
   "execution_count": 2,
   "id": "ca4ba489",
   "metadata": {},
   "outputs": [
    {
     "data": {
      "text/plain": [
       "'2.8.0'"
      ]
     },
     "execution_count": 2,
     "metadata": {},
     "output_type": "execute_result"
    }
   ],
   "source": [
    "tf.__version__"
   ]
  },
  {
   "cell_type": "code",
   "execution_count": 3,
   "id": "6b4387a2",
   "metadata": {},
   "outputs": [],
   "source": [
    "# First we will try to build a plot and see the distribution of the data for different numbers "
   ]
  },
  {
   "cell_type": "code",
   "execution_count": 4,
   "id": "75509991",
   "metadata": {},
   "outputs": [],
   "source": [
    "mnist = mnist.iloc[ : , 1 : : ]"
   ]
  },
  {
   "cell_type": "code",
   "execution_count": 5,
   "id": "d9c5c100",
   "metadata": {},
   "outputs": [
    {
     "data": {
      "text/html": [
       "<div>\n",
       "<style scoped>\n",
       "    .dataframe tbody tr th:only-of-type {\n",
       "        vertical-align: middle;\n",
       "    }\n",
       "\n",
       "    .dataframe tbody tr th {\n",
       "        vertical-align: top;\n",
       "    }\n",
       "\n",
       "    .dataframe thead th {\n",
       "        text-align: right;\n",
       "    }\n",
       "</style>\n",
       "<table border=\"1\" class=\"dataframe\">\n",
       "  <thead>\n",
       "    <tr style=\"text-align: right;\">\n",
       "      <th></th>\n",
       "      <th>pixel0</th>\n",
       "      <th>pixel1</th>\n",
       "      <th>pixel2</th>\n",
       "      <th>pixel3</th>\n",
       "      <th>pixel4</th>\n",
       "      <th>pixel5</th>\n",
       "      <th>pixel6</th>\n",
       "      <th>pixel7</th>\n",
       "      <th>pixel8</th>\n",
       "      <th>pixel9</th>\n",
       "      <th>...</th>\n",
       "      <th>pixel774</th>\n",
       "      <th>pixel775</th>\n",
       "      <th>pixel776</th>\n",
       "      <th>pixel777</th>\n",
       "      <th>pixel778</th>\n",
       "      <th>pixel779</th>\n",
       "      <th>pixel780</th>\n",
       "      <th>pixel781</th>\n",
       "      <th>pixel782</th>\n",
       "      <th>pixel783</th>\n",
       "    </tr>\n",
       "  </thead>\n",
       "  <tbody>\n",
       "    <tr>\n",
       "      <th>0</th>\n",
       "      <td>0</td>\n",
       "      <td>0</td>\n",
       "      <td>0</td>\n",
       "      <td>0</td>\n",
       "      <td>0</td>\n",
       "      <td>0</td>\n",
       "      <td>0</td>\n",
       "      <td>0</td>\n",
       "      <td>0</td>\n",
       "      <td>0</td>\n",
       "      <td>...</td>\n",
       "      <td>0</td>\n",
       "      <td>0</td>\n",
       "      <td>0</td>\n",
       "      <td>0</td>\n",
       "      <td>0</td>\n",
       "      <td>0</td>\n",
       "      <td>0</td>\n",
       "      <td>0</td>\n",
       "      <td>0</td>\n",
       "      <td>0</td>\n",
       "    </tr>\n",
       "    <tr>\n",
       "      <th>1</th>\n",
       "      <td>0</td>\n",
       "      <td>0</td>\n",
       "      <td>0</td>\n",
       "      <td>0</td>\n",
       "      <td>0</td>\n",
       "      <td>0</td>\n",
       "      <td>0</td>\n",
       "      <td>0</td>\n",
       "      <td>0</td>\n",
       "      <td>0</td>\n",
       "      <td>...</td>\n",
       "      <td>0</td>\n",
       "      <td>0</td>\n",
       "      <td>0</td>\n",
       "      <td>0</td>\n",
       "      <td>0</td>\n",
       "      <td>0</td>\n",
       "      <td>0</td>\n",
       "      <td>0</td>\n",
       "      <td>0</td>\n",
       "      <td>0</td>\n",
       "    </tr>\n",
       "    <tr>\n",
       "      <th>2</th>\n",
       "      <td>0</td>\n",
       "      <td>0</td>\n",
       "      <td>0</td>\n",
       "      <td>0</td>\n",
       "      <td>0</td>\n",
       "      <td>0</td>\n",
       "      <td>0</td>\n",
       "      <td>0</td>\n",
       "      <td>0</td>\n",
       "      <td>0</td>\n",
       "      <td>...</td>\n",
       "      <td>0</td>\n",
       "      <td>0</td>\n",
       "      <td>0</td>\n",
       "      <td>0</td>\n",
       "      <td>0</td>\n",
       "      <td>0</td>\n",
       "      <td>0</td>\n",
       "      <td>0</td>\n",
       "      <td>0</td>\n",
       "      <td>0</td>\n",
       "    </tr>\n",
       "    <tr>\n",
       "      <th>3</th>\n",
       "      <td>0</td>\n",
       "      <td>0</td>\n",
       "      <td>0</td>\n",
       "      <td>0</td>\n",
       "      <td>0</td>\n",
       "      <td>0</td>\n",
       "      <td>0</td>\n",
       "      <td>0</td>\n",
       "      <td>0</td>\n",
       "      <td>0</td>\n",
       "      <td>...</td>\n",
       "      <td>0</td>\n",
       "      <td>0</td>\n",
       "      <td>0</td>\n",
       "      <td>0</td>\n",
       "      <td>0</td>\n",
       "      <td>0</td>\n",
       "      <td>0</td>\n",
       "      <td>0</td>\n",
       "      <td>0</td>\n",
       "      <td>0</td>\n",
       "    </tr>\n",
       "    <tr>\n",
       "      <th>4</th>\n",
       "      <td>0</td>\n",
       "      <td>0</td>\n",
       "      <td>0</td>\n",
       "      <td>0</td>\n",
       "      <td>0</td>\n",
       "      <td>0</td>\n",
       "      <td>0</td>\n",
       "      <td>0</td>\n",
       "      <td>0</td>\n",
       "      <td>0</td>\n",
       "      <td>...</td>\n",
       "      <td>0</td>\n",
       "      <td>0</td>\n",
       "      <td>0</td>\n",
       "      <td>0</td>\n",
       "      <td>0</td>\n",
       "      <td>0</td>\n",
       "      <td>0</td>\n",
       "      <td>0</td>\n",
       "      <td>0</td>\n",
       "      <td>0</td>\n",
       "    </tr>\n",
       "  </tbody>\n",
       "</table>\n",
       "<p>5 rows × 784 columns</p>\n",
       "</div>"
      ],
      "text/plain": [
       "   pixel0  pixel1  pixel2  pixel3  pixel4  pixel5  pixel6  pixel7  pixel8  \\\n",
       "0       0       0       0       0       0       0       0       0       0   \n",
       "1       0       0       0       0       0       0       0       0       0   \n",
       "2       0       0       0       0       0       0       0       0       0   \n",
       "3       0       0       0       0       0       0       0       0       0   \n",
       "4       0       0       0       0       0       0       0       0       0   \n",
       "\n",
       "   pixel9  ...  pixel774  pixel775  pixel776  pixel777  pixel778  pixel779  \\\n",
       "0       0  ...         0         0         0         0         0         0   \n",
       "1       0  ...         0         0         0         0         0         0   \n",
       "2       0  ...         0         0         0         0         0         0   \n",
       "3       0  ...         0         0         0         0         0         0   \n",
       "4       0  ...         0         0         0         0         0         0   \n",
       "\n",
       "   pixel780  pixel781  pixel782  pixel783  \n",
       "0         0         0         0         0  \n",
       "1         0         0         0         0  \n",
       "2         0         0         0         0  \n",
       "3         0         0         0         0  \n",
       "4         0         0         0         0  \n",
       "\n",
       "[5 rows x 784 columns]"
      ]
     },
     "execution_count": 5,
     "metadata": {},
     "output_type": "execute_result"
    }
   ],
   "source": [
    "mnist.head()"
   ]
  },
  {
   "cell_type": "code",
   "execution_count": 6,
   "id": "36e18947",
   "metadata": {},
   "outputs": [],
   "source": [
    "mnist = np.array(mnist)"
   ]
  },
  {
   "cell_type": "code",
   "execution_count": 7,
   "id": "85d073f9",
   "metadata": {},
   "outputs": [
    {
     "data": {
      "text/plain": [
       "(42000, 784)"
      ]
     },
     "execution_count": 7,
     "metadata": {},
     "output_type": "execute_result"
    }
   ],
   "source": [
    "mnist.shape"
   ]
  },
  {
   "cell_type": "code",
   "execution_count": 8,
   "id": "fb91b5bb",
   "metadata": {},
   "outputs": [],
   "source": [
    "var1 = mnist[58]"
   ]
  },
  {
   "cell_type": "code",
   "execution_count": 9,
   "id": "eda8c320",
   "metadata": {},
   "outputs": [],
   "source": [
    "var1 = var1.reshape(28, 28) # we have taken 28*28 becuase our pixel is of 784px means 28*28 image"
   ]
  },
  {
   "cell_type": "code",
   "execution_count": 10,
   "id": "84d31832",
   "metadata": {},
   "outputs": [
    {
     "data": {
      "text/plain": [
       "<matplotlib.image.AxesImage at 0x1f81f274190>"
      ]
     },
     "execution_count": 10,
     "metadata": {},
     "output_type": "execute_result"
    },
    {
     "data": {
      "image/png": "[encoded data removed]",
      "text/plain": [
       "<Figure size 432x288 with 1 Axes>"
      ]
     },
     "metadata": {
      "needs_background": "light"
     },
     "output_type": "display_data"
    }
   ],
   "source": [
    "plt.imshow(var1)"
   ]
  },
  {
   "cell_type": "code",
   "execution_count": 11,
   "id": "008e184b",
   "metadata": {},
   "outputs": [
    {
     "data": {
      "image/png": "[encoded data removed]",
      "text/plain": [
       "<Figure size 432x288 with 15 Axes>"
      ]
     },
     "metadata": {
      "needs_background": "light"
     },
     "output_type": "display_data"
    }
   ],
   "source": [
    "# Print multiple images at a time\n",
    "\n",
    "for i in range(15):\n",
    "    plt.subplot(3,5, i+1) # 3 and 5 should be the no. to give product 15\n",
    "    plt.imshow(mnist[i, :].reshape(28, 28))\n",
    "    plt.axis('off')"
   ]
  },
  {
   "cell_type": "code",
   "execution_count": 12,
   "id": "f70fe532",
   "metadata": {},
   "outputs": [],
   "source": [
    "# Model building part starts"
   ]
  },
  {
   "cell_type": "code",
   "execution_count": 13,
   "id": "317c7e55",
   "metadata": {},
   "outputs": [],
   "source": [
    "mnist = pd.read_csv('MNIST_Train.csv')"
   ]
  },
  {
   "cell_type": "code",
   "execution_count": 14,
   "id": "8f99385c",
   "metadata": {},
   "outputs": [],
   "source": [
    "mnist_x = mnist.iloc[ : , 1::]\n",
    "mnist_y = mnist.iloc[ : , 0]"
   ]
  },
  {
   "cell_type": "code",
   "execution_count": 15,
   "id": "980fe25a",
   "metadata": {},
   "outputs": [],
   "source": [
    "from sklearn.model_selection import train_test_split\n",
    "\n",
    "mnist_x_train, mnist_x_test, mnist_y_train, mnist_y_test = train_test_split(mnist_x, mnist_y, test_size=.2)"
   ]
  },
  {
   "cell_type": "code",
   "execution_count": 16,
   "id": "3dac695e",
   "metadata": {},
   "outputs": [
    {
     "name": "stdout",
     "output_type": "stream",
     "text": [
      "(33600, 784)\n",
      "(33600,)\n"
     ]
    }
   ],
   "source": [
    "print(mnist_x_train.shape)\n",
    "print(mnist_y_train.shape)"
   ]
  },
  {
   "cell_type": "code",
   "execution_count": 17,
   "id": "9093935a",
   "metadata": {},
   "outputs": [
    {
     "name": "stdout",
     "output_type": "stream",
     "text": [
      "(8400, 784)\n",
      "(8400,)\n"
     ]
    }
   ],
   "source": [
    "print(mnist_x_test.shape)\n",
    "print(mnist_y_test.shape)"
   ]
  },
  {
   "cell_type": "code",
   "execution_count": 18,
   "id": "5c7af0a3",
   "metadata": {
    "scrolled": true
   },
   "outputs": [],
   "source": [
    "# make the data unitless and fall under 0 to 1\n",
    "\n",
    "# this step is not mandatory, but if you normalize it you get better performance\n",
    "\n",
    "mnist_x_train = tf.keras.utils.normalize(mnist_x_train)\n",
    "mnist_x_test = tf.keras.utils.normalize(mnist_x_test)\n",
    "\n",
    "# To check the change\n",
    "\n",
    "# list(mnist_x_train.iloc[0, 1 ::])"
   ]
  },
  {
   "cell_type": "code",
   "execution_count": 19,
   "id": "a8ef64c1",
   "metadata": {},
   "outputs": [],
   "source": [
    "# In Neural network your data has to be in the ARRAY format and not in the data frame format\n",
    "\n",
    "mnist_x_train = np.array(mnist_x_train)\n",
    "mnist_x_test = np.array(mnist_x_test)\n",
    "mnist_y_train = np.array(mnist_y_train)"
   ]
  },
  {
   "cell_type": "code",
   "execution_count": 20,
   "id": "bf063d3b",
   "metadata": {},
   "outputs": [],
   "source": [
    "model = tf.keras.models.Sequential() # modelis initialized\n",
    "model.add(tf.keras.layers.Dense(128, activation= tf.nn.relu)) # 1st Hidden Layer\n",
    "model.add(tf.keras.layers.Dense(128, activation= tf.nn.relu)) # 2st Hidden Layer\n",
    "model.add(tf.keras.layers.Dense(128, activation= tf.nn.relu)) # 3st Hidden Layer\n",
    "model.add(tf.keras.layers.Dense(10, activation= tf.nn.softmax)) # 10 is not a hyper parameter\n",
    "# number of layers in target variable"
   ]
  },
  {
   "cell_type": "code",
   "execution_count": 21,
   "id": "c137d6bd",
   "metadata": {},
   "outputs": [],
   "source": [
    "# 'adam' optimizer (like the GD)\n",
    "\n",
    "model.compile(optimizer = 'adam', loss = 'sparse_categorical_crossentropy', metrics = ['accuracy'])"
   ]
  },
  {
   "cell_type": "code",
   "execution_count": 22,
   "id": "f853e6ee",
   "metadata": {
    "scrolled": true
   },
   "outputs": [
    {
     "name": "stdout",
     "output_type": "stream",
     "text": [
      "Epoch 1/50\n",
      "420/420 [==============================] - 2s 3ms/step - loss: 0.5399 - accuracy: 0.8430 - val_loss: 0.2730 - val_accuracy: 0.9202\n",
      "Epoch 2/50\n",
      "420/420 [==============================] - 1s 2ms/step - loss: 0.2179 - accuracy: 0.9322 - val_loss: 0.1906 - val_accuracy: 0.9396\n",
      "Epoch 3/50\n",
      "420/420 [==============================] - 1s 2ms/step - loss: 0.1559 - accuracy: 0.9520 - val_loss: 0.1723 - val_accuracy: 0.9494\n",
      "Epoch 4/50\n",
      "420/420 [==============================] - 1s 2ms/step - loss: 0.1198 - accuracy: 0.9636 - val_loss: 0.1417 - val_accuracy: 0.9560\n",
      "Epoch 5/50\n",
      "420/420 [==============================] - 1s 2ms/step - loss: 0.0959 - accuracy: 0.9697 - val_loss: 0.1352 - val_accuracy: 0.9597\n",
      "Epoch 6/50\n",
      "420/420 [==============================] - 1s 2ms/step - loss: 0.0760 - accuracy: 0.9757 - val_loss: 0.1309 - val_accuracy: 0.9610\n",
      "Epoch 7/50\n",
      "420/420 [==============================] - 1s 2ms/step - loss: 0.0601 - accuracy: 0.9812 - val_loss: 0.1332 - val_accuracy: 0.9618\n",
      "Epoch 8/50\n",
      "420/420 [==============================] - 1s 2ms/step - loss: 0.0514 - accuracy: 0.9842 - val_loss: 0.1219 - val_accuracy: 0.9650\n",
      "Epoch 9/50\n",
      "420/420 [==============================] - 1s 2ms/step - loss: 0.0407 - accuracy: 0.9881 - val_loss: 0.1216 - val_accuracy: 0.9679\n",
      "Epoch 10/50\n",
      "420/420 [==============================] - 1s 2ms/step - loss: 0.0341 - accuracy: 0.9891 - val_loss: 0.1194 - val_accuracy: 0.9692\n",
      "Epoch 11/50\n",
      "420/420 [==============================] - 1s 2ms/step - loss: 0.0277 - accuracy: 0.9917 - val_loss: 0.1236 - val_accuracy: 0.9661\n",
      "Epoch 12/50\n",
      "420/420 [==============================] - 1s 2ms/step - loss: 0.0231 - accuracy: 0.9927 - val_loss: 0.1290 - val_accuracy: 0.9699\n",
      "Epoch 13/50\n",
      "420/420 [==============================] - 1s 2ms/step - loss: 0.0193 - accuracy: 0.9940 - val_loss: 0.1410 - val_accuracy: 0.9641\n",
      "Epoch 14/50\n",
      "420/420 [==============================] - 1s 2ms/step - loss: 0.0163 - accuracy: 0.9951 - val_loss: 0.1309 - val_accuracy: 0.9699\n",
      "Epoch 15/50\n",
      "420/420 [==============================] - 1s 2ms/step - loss: 0.0148 - accuracy: 0.9952 - val_loss: 0.1458 - val_accuracy: 0.9659\n",
      "Epoch 16/50\n",
      "420/420 [==============================] - 1s 2ms/step - loss: 0.0131 - accuracy: 0.9956 - val_loss: 0.1953 - val_accuracy: 0.9565\n",
      "Epoch 17/50\n",
      "420/420 [==============================] - 1s 2ms/step - loss: 0.0155 - accuracy: 0.9949 - val_loss: 0.1706 - val_accuracy: 0.9649\n",
      "Epoch 18/50\n",
      "420/420 [==============================] - 1s 2ms/step - loss: 0.0114 - accuracy: 0.9964 - val_loss: 0.1598 - val_accuracy: 0.9670\n",
      "Epoch 19/50\n",
      "420/420 [==============================] - 1s 2ms/step - loss: 0.0093 - accuracy: 0.9967 - val_loss: 0.1650 - val_accuracy: 0.9674\n",
      "Epoch 20/50\n",
      "420/420 [==============================] - 1s 2ms/step - loss: 0.0130 - accuracy: 0.9953 - val_loss: 0.1687 - val_accuracy: 0.9649\n",
      "Epoch 21/50\n",
      "420/420 [==============================] - 1s 2ms/step - loss: 0.0075 - accuracy: 0.9977 - val_loss: 0.1609 - val_accuracy: 0.9699\n",
      "Epoch 22/50\n",
      "420/420 [==============================] - 1s 2ms/step - loss: 0.0075 - accuracy: 0.9974 - val_loss: 0.1717 - val_accuracy: 0.9683\n",
      "Epoch 23/50\n",
      "420/420 [==============================] - 1s 2ms/step - loss: 0.0082 - accuracy: 0.9972 - val_loss: 0.1689 - val_accuracy: 0.9692\n",
      "Epoch 24/50\n",
      "420/420 [==============================] - 1s 2ms/step - loss: 0.0097 - accuracy: 0.9965 - val_loss: 0.1698 - val_accuracy: 0.9690\n",
      "Epoch 25/50\n",
      "420/420 [==============================] - 1s 2ms/step - loss: 0.0068 - accuracy: 0.9978 - val_loss: 0.1822 - val_accuracy: 0.9695\n",
      "Epoch 26/50\n",
      "420/420 [==============================] - 1s 2ms/step - loss: 0.0052 - accuracy: 0.9984 - val_loss: 0.1851 - val_accuracy: 0.9695\n",
      "Epoch 27/50\n",
      "420/420 [==============================] - 1s 2ms/step - loss: 0.0077 - accuracy: 0.9973 - val_loss: 0.1769 - val_accuracy: 0.9705\n",
      "Epoch 28/50\n",
      "420/420 [==============================] - 1s 2ms/step - loss: 0.0071 - accuracy: 0.9975 - val_loss: 0.1946 - val_accuracy: 0.9637\n",
      "Epoch 29/50\n",
      "420/420 [==============================] - 1s 2ms/step - loss: 0.0065 - accuracy: 0.9983 - val_loss: 0.1876 - val_accuracy: 0.9698\n",
      "Epoch 30/50\n",
      "420/420 [==============================] - 1s 2ms/step - loss: 0.0066 - accuracy: 0.9979 - val_loss: 0.1746 - val_accuracy: 0.9705\n",
      "Epoch 31/50\n",
      "420/420 [==============================] - 1s 2ms/step - loss: 0.0124 - accuracy: 0.9957 - val_loss: 0.1657 - val_accuracy: 0.9719\n",
      "Epoch 32/50\n",
      "420/420 [==============================] - 1s 2ms/step - loss: 0.0015 - accuracy: 0.9996 - val_loss: 0.1589 - val_accuracy: 0.9754\n",
      "Epoch 33/50\n",
      "420/420 [==============================] - 1s 2ms/step - loss: 3.4167e-04 - accuracy: 1.0000 - val_loss: 0.1852 - val_accuracy: 0.9714\n",
      "Epoch 34/50\n",
      "420/420 [==============================] - 1s 2ms/step - loss: 1.4147e-04 - accuracy: 1.0000 - val_loss: 0.1699 - val_accuracy: 0.9749\n",
      "Epoch 35/50\n",
      "420/420 [==============================] - 1s 3ms/step - loss: 6.7997e-05 - accuracy: 1.0000 - val_loss: 0.1707 - val_accuracy: 0.9750\n",
      "Epoch 36/50\n",
      "420/420 [==============================] - 1s 2ms/step - loss: 5.0271e-05 - accuracy: 1.0000 - val_loss: 0.1733 - val_accuracy: 0.9749\n",
      "Epoch 37/50\n",
      "420/420 [==============================] - 1s 2ms/step - loss: 3.9014e-05 - accuracy: 1.0000 - val_loss: 0.1750 - val_accuracy: 0.9749\n",
      "Epoch 38/50\n",
      "420/420 [==============================] - 1s 2ms/step - loss: 3.1284e-05 - accuracy: 1.0000 - val_loss: 0.1776 - val_accuracy: 0.9750\n",
      "Epoch 39/50\n",
      "420/420 [==============================] - 1s 2ms/step - loss: 2.5503e-05 - accuracy: 1.0000 - val_loss: 0.1800 - val_accuracy: 0.9741\n",
      "Epoch 40/50\n",
      "420/420 [==============================] - 1s 2ms/step - loss: 2.0581e-05 - accuracy: 1.0000 - val_loss: 0.1835 - val_accuracy: 0.9741\n",
      "Epoch 41/50\n",
      "420/420 [==============================] - 1s 2ms/step - loss: 1.7087e-05 - accuracy: 1.0000 - val_loss: 0.1846 - val_accuracy: 0.9751\n",
      "Epoch 42/50\n",
      "420/420 [==============================] - 1s 3ms/step - loss: 1.4056e-05 - accuracy: 1.0000 - val_loss: 0.1875 - val_accuracy: 0.9746\n",
      "Epoch 43/50\n",
      "420/420 [==============================] - 1s 2ms/step - loss: 1.1475e-05 - accuracy: 1.0000 - val_loss: 0.1911 - val_accuracy: 0.9743\n",
      "Epoch 44/50\n",
      "420/420 [==============================] - 1s 2ms/step - loss: 9.3104e-06 - accuracy: 1.0000 - val_loss: 0.1956 - val_accuracy: 0.9747\n",
      "Epoch 45/50\n",
      "420/420 [==============================] - 1s 2ms/step - loss: 7.7546e-06 - accuracy: 1.0000 - val_loss: 0.1974 - val_accuracy: 0.9749\n",
      "Epoch 46/50\n",
      "420/420 [==============================] - 1s 2ms/step - loss: 6.1262e-06 - accuracy: 1.0000 - val_loss: 0.2016 - val_accuracy: 0.9749\n",
      "Epoch 47/50\n",
      "420/420 [==============================] - 1s 2ms/step - loss: 4.9821e-06 - accuracy: 1.0000 - val_loss: 0.2047 - val_accuracy: 0.9750\n",
      "Epoch 48/50\n",
      "420/420 [==============================] - 1s 2ms/step - loss: 3.9059e-06 - accuracy: 1.0000 - val_loss: 0.2086 - val_accuracy: 0.9753\n",
      "Epoch 49/50\n",
      "420/420 [==============================] - 1s 2ms/step - loss: 3.2670e-06 - accuracy: 1.0000 - val_loss: 0.2128 - val_accuracy: 0.9750\n",
      "Epoch 50/50\n",
      "420/420 [==============================] - 1s 2ms/step - loss: 2.6047e-06 - accuracy: 1.0000 - val_loss: 0.2175 - val_accuracy: 0.9749\n"
     ]
    }
   ],
   "source": [
    "model1 = model.fit(mnist_x_train, mnist_y_train, epochs=50, validation_split=.2, batch_size = 64)"
   ]
  },
  {
   "cell_type": "code",
   "execution_count": 23,
   "id": "f389d980",
   "metadata": {},
   "outputs": [
    {
     "data": {
      "text/plain": [
       "array([1, 2, 7, ..., 1, 6, 2], dtype=int64)"
      ]
     },
     "execution_count": 23,
     "metadata": {},
     "output_type": "execute_result"
    }
   ],
   "source": [
    "# We cannot use the the predict function directly beucase it gives us the probabality of the function \n",
    "y_pred = model.predict(mnist_x_test)\n",
    "y_pred = np.argmax(y_pred, axis =1)\n",
    "y_pred"
   ]
  },
  {
   "cell_type": "code",
   "execution_count": 24,
   "id": "ecaa13e2",
   "metadata": {},
   "outputs": [
    {
     "data": {
      "text/plain": [
       "dict_keys(['loss', 'accuracy', 'val_loss', 'val_accuracy'])"
      ]
     },
     "execution_count": 24,
     "metadata": {},
     "output_type": "execute_result"
    }
   ],
   "source": [
    "model1.history\n",
    "\n",
    "model1.history.keys()"
   ]
  },
  {
   "cell_type": "code",
   "execution_count": 25,
   "id": "71b9967c",
   "metadata": {
    "scrolled": true
   },
   "outputs": [
    {
     "data": {
      "text/html": [
       "<div>\n",
       "<style scoped>\n",
       "    .dataframe tbody tr th:only-of-type {\n",
       "        vertical-align: middle;\n",
       "    }\n",
       "\n",
       "    .dataframe tbody tr th {\n",
       "        vertical-align: top;\n",
       "    }\n",
       "\n",
       "    .dataframe thead th {\n",
       "        text-align: right;\n",
       "    }\n",
       "</style>\n",
       "<table border=\"1\" class=\"dataframe\">\n",
       "  <thead>\n",
       "    <tr style=\"text-align: right;\">\n",
       "      <th></th>\n",
       "      <th>loss</th>\n",
       "      <th>accuracy</th>\n",
       "      <th>val_loss</th>\n",
       "      <th>val_accuracy</th>\n",
       "    </tr>\n",
       "  </thead>\n",
       "  <tbody>\n",
       "    <tr>\n",
       "      <th>0</th>\n",
       "      <td>0.539858</td>\n",
       "      <td>0.842969</td>\n",
       "      <td>0.272953</td>\n",
       "      <td>0.920238</td>\n",
       "    </tr>\n",
       "    <tr>\n",
       "      <th>1</th>\n",
       "      <td>0.217913</td>\n",
       "      <td>0.932217</td>\n",
       "      <td>0.190583</td>\n",
       "      <td>0.939583</td>\n",
       "    </tr>\n",
       "    <tr>\n",
       "      <th>2</th>\n",
       "      <td>0.155915</td>\n",
       "      <td>0.952046</td>\n",
       "      <td>0.172260</td>\n",
       "      <td>0.949405</td>\n",
       "    </tr>\n",
       "    <tr>\n",
       "      <th>3</th>\n",
       "      <td>0.119781</td>\n",
       "      <td>0.963579</td>\n",
       "      <td>0.141673</td>\n",
       "      <td>0.955952</td>\n",
       "    </tr>\n",
       "    <tr>\n",
       "      <th>4</th>\n",
       "      <td>0.095904</td>\n",
       "      <td>0.969717</td>\n",
       "      <td>0.135154</td>\n",
       "      <td>0.959673</td>\n",
       "    </tr>\n",
       "  </tbody>\n",
       "</table>\n",
       "</div>"
      ],
      "text/plain": [
       "       loss  accuracy  val_loss  val_accuracy\n",
       "0  0.539858  0.842969  0.272953      0.920238\n",
       "1  0.217913  0.932217  0.190583      0.939583\n",
       "2  0.155915  0.952046  0.172260      0.949405\n",
       "3  0.119781  0.963579  0.141673      0.955952\n",
       "4  0.095904  0.969717  0.135154      0.959673"
      ]
     },
     "execution_count": 25,
     "metadata": {},
     "output_type": "execute_result"
    }
   ],
   "source": [
    "dict1 = pd.DataFrame(model1.history)\n",
    "dict1.head()"
   ]
  },
  {
   "cell_type": "code",
   "execution_count": 26,
   "id": "90cfcb34",
   "metadata": {},
   "outputs": [
    {
     "data": {
      "text/plain": [
       "<matplotlib.legend.Legend at 0x1f81f8df910>"
      ]
     },
     "execution_count": 26,
     "metadata": {},
     "output_type": "execute_result"
    },
    {
     "data": {
      "image/png": "[encoded data removed]",
      "text/plain": [
       "<Figure size 432x288 with 1 Axes>"
      ]
     },
     "metadata": {
      "needs_background": "light"
     },
     "output_type": "display_data"
    }
   ],
   "source": [
    "plt.plot(dict1.loss, color = 'r', label = 'Loss', marker = '*')\n",
    "plt.plot(dict1.val_loss, color = 'g', label = 'ValidationLoss', marker = '*')\n",
    "plt.legend()"
   ]
  },
  {
   "cell_type": "code",
   "execution_count": 28,
   "id": "480cd6a6",
   "metadata": {},
   "outputs": [
    {
     "name": "stdout",
     "output_type": "stream",
     "text": [
      "Confusion Matrix : \n",
      " Actual Values -> Predicted Values\n",
      " \n",
      " [[828   0   3   1   1   2   4   1   1   0]\n",
      " [  0 933   2   2   0   0   1   0   0   0]\n",
      " [  2   1 829   2   3   2   1   3   6   0]\n",
      " [  0   1   6 841   0   7   0   7   4   1]\n",
      " [  0   2   0   0 802   2   2   3   0  12]\n",
      " [  0   0   3   6   0 751   4   0   4   4]\n",
      " [  7   2   1   0   2   0 817   0   3   0]\n",
      " [  2   0   6   2   0   0   0 825   2   6]\n",
      " [  1   3   5   4   0   1   3   1 793   5]\n",
      " [  7   0   0   2  10   4   0   4   5 787]]\n",
      "\n",
      "               precision    recall  f1-score   support\n",
      "\n",
      "           0       0.98      0.98      0.98       841\n",
      "           1       0.99      0.99      0.99       938\n",
      "           2       0.97      0.98      0.97       849\n",
      "           3       0.98      0.97      0.97       867\n",
      "           4       0.98      0.97      0.98       823\n",
      "           5       0.98      0.97      0.97       772\n",
      "           6       0.98      0.98      0.98       832\n",
      "           7       0.98      0.98      0.98       843\n",
      "           8       0.97      0.97      0.97       816\n",
      "           9       0.97      0.96      0.96       819\n",
      "\n",
      "    accuracy                           0.98      8400\n",
      "   macro avg       0.98      0.98      0.98      8400\n",
      "weighted avg       0.98      0.98      0.98      8400\n",
      "\n"
     ]
    }
   ],
   "source": [
    "\n",
    "tab = confusion_matrix(mnist_y_test, y_pred)\n",
    "print('Confusion Matrix : \\n Actual Values -> Predicted Values\\n \\n',tab)\n",
    "print('\\n',classification_report(mnist_y_test, y_pred))"
   ]
  },
  {
   "cell_type": "markdown",
   "id": "9a554016",
   "metadata": {},
   "source": [
    "<h3>Conclusion : </h3>We have managed to achieve a <b>Precision : 98% and Accuracy : 98%</b>"
   ]
  },
  {
   "cell_type": "code",
   "execution_count": null,
   "id": "bd75886b",
   "metadata": {},
   "outputs": [],
   "source": []
  },
  {
   "cell_type": "code",
   "execution_count": null,
   "id": "46ae14a1",
   "metadata": {},
   "outputs": [],
   "source": []
  },
  {
   "cell_type": "code",
   "execution_count": null,
   "id": "bb839d07",
   "metadata": {},
   "outputs": [],
   "source": []
  },
  {
   "cell_type": "code",
   "execution_count": null,
   "id": "f3f397c8",
   "metadata": {},
   "outputs": [],
   "source": []
  }
 ],
 "metadata": {
  "kernelspec": {
   "display_name": "Python 3 (ipykernel)",
   "language": "python",
   "name": "python3"
  },
  "language_info": {
   "codemirror_mode": {
    "name": "ipython",
    "version": 3
   },
   "file_extension": ".py",
   "mimetype": "text/x-python",
   "name": "python",
   "nbconvert_exporter": "python",
   "pygments_lexer": "ipython3",
   "version": "3.9.7"
  }
 },
 "nbformat": 4,
 "nbformat_minor": 5
}
